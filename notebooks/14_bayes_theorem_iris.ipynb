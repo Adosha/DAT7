{
 "metadata": {
  "name": "",
  "signature": "sha256:998c585e6f31ef884d5a550672a9f5449a69ba941e75b4a922bfbc511cf0e201"
 },
 "nbformat": 3,
 "nbformat_minor": 0,
 "worksheets": [
  {
   "cells": [
    {
     "cell_type": "markdown",
     "metadata": {},
     "source": [
      "# Applying Bayes' theorem to iris classification\n",
      "\n",
      "Let's see if **Bayes' theorem** might be able to help us solve a **classification task**, namely predicting the species of an iris!"
     ]
    },
    {
     "cell_type": "markdown",
     "metadata": {},
     "source": [
      "## Preparing the data\n",
      "\n",
      "We'll load the iris data into a DataFrame, and **round up** all of the measurements to the next integer:"
     ]
    },
    {
     "cell_type": "code",
     "collapsed": false,
     "input": [
      "from sklearn.datasets import load_iris\n",
      "import numpy as np\n",
      "import pandas as pd"
     ],
     "language": "python",
     "metadata": {},
     "outputs": []
    },
    {
     "cell_type": "code",
     "collapsed": false,
     "input": [
      "# load the iris data\n",
      "iris = load_iris()\n",
      "\n",
      "# round up the measurements\n",
      "X = np.ceil(iris.data)\n",
      "\n",
      "# clean up column names\n",
      "col_names = [name[:-5].replace(' ', '_') for name in iris.feature_names]\n",
      "\n",
      "# read into pandas\n",
      "df = pd.DataFrame(X, columns=col_names)\n",
      "\n",
      "# create a list of species using iris.target and iris.target_names\n",
      "species = [iris.target_names[num] for num in iris.target]\n",
      "\n",
      "# add the species list as a new DataFrame column\n",
      "df['species'] = species"
     ],
     "language": "python",
     "metadata": {},
     "outputs": []
    },
    {
     "cell_type": "code",
     "collapsed": false,
     "input": [
      "# print the head\n",
      "df.head()"
     ],
     "language": "python",
     "metadata": {},
     "outputs": []
    },
    {
     "cell_type": "markdown",
     "metadata": {},
     "source": [
      "## Deciding how to make a prediction\n",
      "\n",
      "Let's say that I had an **out-of-sample observation** with the following measurements: **7, 3, 5, 2**. I want to predict the species of this iris. How might I do that?\n",
      "\n",
      "We'll first examine all observations in the **training data** with those measurements:"
     ]
    },
    {
     "cell_type": "code",
     "collapsed": false,
     "input": [
      "# show all observations with features: 7, 3, 5, 2\n",
      "df[(df.sepal_length==7) & (df.sepal_width==3) & (df.petal_length==5) & (df.petal_width==2)]"
     ],
     "language": "python",
     "metadata": {},
     "outputs": []
    },
    {
     "cell_type": "code",
     "collapsed": false,
     "input": [
      "# count the species for these observations\n",
      "df[(df.sepal_length==7) & (df.sepal_width==3) & (df.petal_length==5) & (df.petal_width==2)].species.value_counts()"
     ],
     "language": "python",
     "metadata": {},
     "outputs": []
    },
    {
     "cell_type": "code",
     "collapsed": false,
     "input": [
      "# count the species for all observations\n",
      "df.species.value_counts()"
     ],
     "language": "python",
     "metadata": {},
     "outputs": []
    },
    {
     "cell_type": "markdown",
     "metadata": {},
     "source": [
      "Okay, so how might **Bayes' theorem** help us here?\n",
      "\n",
      "Let's frame this as a **conditional probability**: What is the probability of some particular class, given the measurements 7352?\n",
      "\n",
      "$$P(class | 7352)$$\n",
      "\n",
      "We could calculate this conditional probability for **each of the three classes**, and then predict the class with the **highest probability**:\n",
      "\n",
      "$$P(setosa | 7352)$$\n",
      "$$P(versicolor | 7352)$$\n",
      "$$P(virginica | 7352)$$"
     ]
    },
    {
     "cell_type": "markdown",
     "metadata": {},
     "source": [
      "## Calculating the probability of each class\n",
      "\n",
      "Let's start with **versicolor**:\n",
      "\n",
      "$$P(versicolor | 7352) = \\frac {P(7352 | versicolor) \\times P(versicolor)} {P(7352)}$$"
     ]
    },
    {
     "cell_type": "markdown",
     "metadata": {},
     "source": [
      "We'll calculate each of the terms on the right side of the equation:\n",
      "\n",
      "$$P(7352 | versicolor) = \\frac {13} {50} = 0.26$$\n",
      "\n",
      "$$P(versicolor) = \\frac {50} {150} = 0.33$$\n",
      "\n",
      "$$P(7352) = \\frac {17} {150} = 0.11$$"
     ]
    },
    {
     "cell_type": "markdown",
     "metadata": {},
     "source": [
      "Therefore, Bayes' theorem says the **probability of versicolor given these measurements** is:\n",
      "\n",
      "$$P(versicolor | 7352) = \\frac {0.26 \\times 0.33} {0.11} = 0.76$$"
     ]
    },
    {
     "cell_type": "markdown",
     "metadata": {},
     "source": [
      "Let's repeat this process for the other two classes, though we already know that versicolor will have the highest probability:\n",
      "\n",
      "$$P(virginica | 7352) = \\frac {0.08 \\times 0.33} {0.11} = 0.24$$\n",
      "\n",
      "$$P(setosa | 7352) = \\frac {0 \\times 0.33} {0.11} = 0$$"
     ]
    },
    {
     "cell_type": "markdown",
     "metadata": {},
     "source": [
      "## Adjusting the data\n",
      "\n",
      "Let's make some hypothetical adjustments to the data, to demonstrate how Bayes' theorem actually makes intuitive sense:\n",
      "\n",
      "Pretend that **more of the existing versicolors were 7352:**\n",
      "\n",
      "- $P(7352|versicolor)$ would increase, thus increasing the numerator.\n",
      "- It would make sense that given an iris with 7352, the probability of it being a versicolor would also increase.\n",
      "\n",
      "Pretend that **most of the existing irises were versicolor:**\n",
      "\n",
      "- $P(versicolor)$ would increase, thus increasing the numerator.\n",
      "- It would make sense that the probability of any iris being a versicolor (regardless of measurements) would also increase.\n",
      "\n",
      "Pretend that **17 of the setosas were 7352:**\n",
      "\n",
      "- $P(7352)$ would double, thus doubling the denominator.\n",
      "- It would make sense that given an iris with 7352, the probability of it being a versicolor would be cut in half."
     ]
    }
   ],
   "metadata": {}
  }
 ]
}